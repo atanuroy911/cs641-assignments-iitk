{
 "cells": [
  {
   "cell_type": "code",
   "execution_count": 1,
   "metadata": {
    "pycharm": {
     "is_executing": true
    }
   },
   "outputs": [],
   "source": [
    "import numpy as np"
   ]
  },
  {
   "cell_type": "code",
   "execution_count": 2,
   "metadata": {},
   "outputs": [],
   "source": [
    "S_Box = [[[14, 4, 13, 1, 2, 15, 11, 8, 3 , 10, 6, 12, 5, 9, 0, 7],\n",
    "    [0, 15, 7, 4, 14, 2, 13, 1, 10, 6, 12, 11, 9, 5, 3, 8],\n",
    "    [4, 1 , 14, 8, 13, 6, 2, 11, 15, 12, 9, 7,3, 10, 5, 0],\n",
    "    [15, 12, 8,2,4, 9, 1,7 , 5, 11, 3, 14, 10, 0, 6, 13]],\n",
    "\n",
    "    [[15, 1, 8, 14, 6, 11, 3, 4, 9, 7, 2, 13, 12, 0,5, 10],\n",
    "    [3, 13, 4, 7, 15, 2, 8, 14, 12, 0, 1, 10, 6, 9, 11, 5],\n",
    "    [0, 14, 7, 11, 10, 4, 13, 1, 5, 8,12, 6, 9, 3, 2, 15],\n",
    "    [13, 8, 10, 1, 3, 15, 4, 2,11,6, 7, 12, 0,5, 14, 9]],\n",
    "\n",
    "    [[10, 0, 9,14,6,3,15,5, 1, 13, 12, 7, 11, 4,2,8],\n",
    "    [13, 7, 0, 9, 3, 4, 6, 10, 2, 8, 5, 14, 12, 11, 15, 1],\n",
    "    [13, 6, 4, 9, 8, 15, 3, 0, 11, 1, 2, 12,5, 10, 14, 7],\n",
    "    [1, 10, 13, 0, 6, 9, 8, 7, 4, 15, 14, 3, 11, 5, 2, 12]],\n",
    "\n",
    "    [[7, 13, 14, 3, 0, 6, 9, 10, 1, 2, 8, 5, 11, 12, 4, 15],\n",
    "    [13, 8, 11, 5, 6, 15, 0, 3, 4, 7, 2, 12, 1, 10, 14, 9],\n",
    "    [10, 6, 9, 0, 12, 11, 7, 13, 15, 1 , 3, 14, 5, 2, 8, 4],\n",
    "    [3, 15, 0, 6, 10, 1, 13, 8, 9, 4, 5, 11, 12, 7, 2, 14]],\n",
    "\n",
    "    [[2, 12, 4, 1, 7, 10, 11, 6, 8, 5, 3, 15, 13, 0, 14, 9],\n",
    "    [14, 11,2, 12, 4, 7, 13, 1, 5, 0, 15, 10, 3, 9, 8, 6],\n",
    "    [4, 2, 1, 11, 10, 13, 7, 8, 15, 9, 12, 5, 6, 3, 0, 14],\n",
    "    [11, 8, 12, 7, 1, 14, 2, 13, 6, 15, 0, 9, 10, 4, 5, 3]],\n",
    "\n",
    "    [[12, 1, 10, 15, 9, 2, 6,8, 0, 13, 3, 4, 14, 7, 5, 11],\n",
    "    [10, 15, 4, 2, 7, 12, 9, 5, 6, 1, 13, 14, 0, 11, 3, 8],\n",
    "    [9, 14, 15, 5, 2,8, 12, 3, 7, 0, 4, 10, 1, 13, 11, 6],\n",
    "    [4, 3, 2, 12, 9, 5, 15, 10, 11, 14, 1, 7, 6, 0, 8, 13]],\n",
    "\n",
    "    [[4, 11, 2, 14, 15, 0, 8, 13, 3, 12, 9, 7, 5, 10, 6, 1],\n",
    "    [13, 0, 11, 7, 4, 9, 1, 10, 14, 3, 5, 12, 2, 15, 8, 6],\n",
    "    [1, 4, 11, 13, 12, 3, 7, 14, 10, 15, 6, 8, 0, 5, 9, 2],\n",
    "    [6, 11, 13, 8, 1, 4, 10, 7, 9, 5, 0, 15, 14, 2, 3, 12]],\n",
    "\n",
    "    [[13, 2, 8, 4, 6, 15, 11, 1, 10, 9, 3, 14, 5, 0, 12,7],\n",
    "    [1, 15, 13, 8, 10, 3, 7, 4, 12, 5, 6, 11, 0, 14, 9, 2],\n",
    "    [7, 11, 4, 1, 9, 12, 14, 2, 0, 6, 10, 13, 15, 3, 5, 8],\n",
    "    [2, 1, 14, 7, 4, 10, 8, 13, 15, 12, 9, 0, 3, 5, 6, 11]]]"
   ]
  },
  {
   "cell_type": "code",
   "execution_count": 3,
   "metadata": {},
   "outputs": [],
   "source": [
    "X_S_In = open(\"XS_inp.txt\").read().split(\"\\n\")\n",
    "X_S_Out = open(\"XS_out.txt\").read().split(\"\\n\")\n",
    "LOut = open(\"XExp_out.txt\").read().split(\"\\n\")\n",
    "Keys = np.zeros((8,64))"
   ]
  },
  {
   "cell_type": "code",
   "execution_count": 4,
   "metadata": {},
   "outputs": [],
   "source": [
    "def SBoxOut(a, b, s):\n",
    "    a = '{:0>6}'.format(format(a,\"b\"))\n",
    "    b = '{:0>6}'.format(format(b,\"b\"))\n",
    "    r1 = int(a[0])*2 + int(a[5])\n",
    "    r2 = int(b[0])*2 + int(b[5])\n",
    "    c1 = int(a[4]) + 2 *int(a[3]) + int(a[2]) * 4 + int(a[1])*8\n",
    "    c2 = int(b[4]) + 2 *int(b[3]) + int(b[2]) * 4 + int(b[1])*8    \n",
    "    return (S_Box[s][r1][c1])^(S_Box[s][r2][c2])"
   ]
  },
  {
   "cell_type": "code",
   "execution_count": 5,
   "metadata": {},
   "outputs": [],
   "source": [
    "for i in range(len(X_S_In)):\n",
    "    if X_S_In[i]==\"\":\n",
    "        continue\n",
    "    inpxs = X_S_In[i]\n",
    "    outxs = X_S_Out[i]\n",
    "    inpos = LOut[i]       #LHS of the final output expanded \n",
    "    for j in range(8):\n",
    "        inx = int(inpxs[j*6:j*6+6], 2)\n",
    "        outx = int(outxs[j*4:j*4+4], 2)\n",
    "        inp_orig = int(inpos[j*6:j*6+6], 2)\n",
    "        for k in range(64):\n",
    "            if outx == SBoxOut(k, k^inx, j):\n",
    "                key_cand = k^inp_orig\n",
    "                Keys[j][key_cand] = Keys[j][key_cand] + 1"
   ]
  },
  {
   "cell_type": "code",
   "execution_count": 7,
   "metadata": {
    "scrolled": true
   },
   "outputs": [
    {
     "name": "stdout",
     "output_type": "stream",
     "text": [
      "[[553. 634. 783. 473. 556. 651. 665. 645. 827. 535. 616. 605. 580. 554.\n",
      "  676. 486. 674. 671. 507. 457. 617. 638. 745. 662. 798. 753. 677. 525.\n",
      "  645. 663. 580. 517. 646. 558. 764. 615. 697. 648. 517. 572. 574. 670.\n",
      "  576. 649. 569. 697. 435. 560. 638. 620. 637. 666. 802. 469. 576. 635.\n",
      "  594. 720. 537. 854. 756. 685. 519. 765.]\n",
      " [689. 653. 705. 676. 691. 441. 680. 779. 754. 578. 684. 606. 470. 850.\n",
      "  656. 685. 634. 855. 575. 419. 512. 532. 436. 685. 738. 461. 579. 872.\n",
      "  729. 694. 857. 470. 493. 646. 691. 535. 469. 725. 671. 652. 615. 636.\n",
      "  648. 579. 643. 569. 518. 738. 592. 529. 645. 610. 753. 691. 683. 764.\n",
      "  572. 705. 781. 623. 529. 624. 675. 807.]\n",
      " [591. 916. 703. 719. 699. 603. 687. 755. 588. 614. 720. 608. 622. 567.\n",
      "  692. 770. 613. 836. 662. 715. 634. 594. 530. 638. 617. 554. 664. 708.\n",
      "  576. 583. 660. 643. 551. 746. 710. 673. 761. 650. 672. 804. 528. 499.\n",
      "  683. 648. 622. 530. 801. 676. 657. 529. 754. 529. 769. 730. 936. 650.\n",
      "  602. 700. 589. 474. 720. 647. 546. 585.]\n",
      " [681. 497. 724. 646. 615. 606. 762. 562. 453. 715. 480. 650. 641. 825.\n",
      "  547. 666. 436. 650. 570. 589. 613. 641. 582. 566. 545. 453. 669. 591.\n",
      "  535. 674. 474. 638. 691. 572. 502. 701. 753. 481. 513. 672. 487. 575.\n",
      "  576. 735. 635. 697. 558. 626. 596. 655. 535. 506. 464. 453. 526. 576.\n",
      "  541. 714. 615. 700. 555. 446. 469. 639.]\n",
      " [669. 729. 720. 687. 731. 557. 675. 734. 661. 704. 721. 608. 773. 614.\n",
      "  578. 607. 637. 496. 733. 670. 725. 515. 667. 694. 675. 743. 489. 638.\n",
      "  557. 669. 444. 580. 908. 672. 639. 529. 665. 576. 711. 699. 667. 674.\n",
      "  520. 538. 468. 701. 600. 720. 620. 653. 762. 551. 691. 800. 740. 810.\n",
      "  631. 721. 633. 783. 686. 664. 688. 722.]\n",
      " [678. 541. 529. 651. 620. 599. 751. 814. 763. 577. 561. 761. 499. 426.\n",
      "  470. 730. 552. 597. 573. 556. 696. 473. 621. 515. 731. 630. 655. 571.\n",
      "  725. 723. 483. 580. 685. 613. 526. 607. 668. 693. 584. 519. 389. 517.\n",
      "  646. 647. 530. 496. 547. 657. 454. 648. 587. 575. 568. 545. 558. 525.\n",
      "  736. 534. 563. 589. 664. 714. 606. 621.]\n",
      " [493. 571. 701. 477. 419. 495. 662. 446. 455. 643. 471. 605. 539. 454.\n",
      "  588. 688. 613. 611. 620. 719. 479. 651. 666. 543. 674. 528. 681. 623.\n",
      "  713. 543. 637. 572. 758. 643. 718. 514. 661. 576. 708. 559. 541. 618.\n",
      "  700. 658. 546. 531. 543. 670. 700. 529. 512. 563. 533. 782. 702. 690.\n",
      "  668. 630. 676. 486. 524. 577. 648. 390.]\n",
      " [649. 451. 645. 517. 417. 603. 499. 665. 572. 625. 712. 545. 560. 553.\n",
      "  690. 506. 630. 545. 583. 669. 538. 534. 610. 468. 723. 487. 812. 489.\n",
      "  517. 618. 547. 495. 702. 635. 454. 412. 639. 573. 463. 514. 589. 609.\n",
      "  629. 540. 344. 683. 629. 629. 559. 659. 567. 674. 697. 491. 741. 564.\n",
      "  550. 499. 812. 686. 667. 596. 603. 529.]]\n"
     ]
    }
   ],
   "source": [
    "print(Keys)"
   ]
  },
  {
   "cell_type": "code",
   "execution_count": 10,
   "metadata": {
    "scrolled": true
   },
   "outputs": [
    {
     "ename": "SyntaxError",
     "evalue": "Missing parentheses in call to 'print'. Did you mean print(max_key)? (456584575.py, line 10)",
     "output_type": "error",
     "traceback": [
      "\u001b[1;36m  Cell \u001b[1;32mIn[10], line 10\u001b[1;36m\u001b[0m\n\u001b[1;33m    print max_key\u001b[0m\n\u001b[1;37m          ^\u001b[0m\n\u001b[1;31mSyntaxError\u001b[0m\u001b[1;31m:\u001b[0m Missing parentheses in call to 'print'. Did you mean print(max_key)?\n"
     ]
    }
   ],
   "source": [
    "import operator\n",
    "max_key = []\n",
    "average = []\n",
    "index = []\n",
    "for i in Keys:\n",
    "    inde, value = max(enumerate(i), key=operator.itemgetter(1))\n",
    "    max_key.append(int(value))\n",
    "    index.append(inde)\n",
    "    average.append(int(round(np.mean(i))))\n",
    "print(ax_key)\n",
    "print average\n",
    "print index"
   ]
  },
  {
   "cell_type": "code",
   "execution_count": 9,
   "metadata": {},
   "outputs": [
    {
     "ename": "NameError",
     "evalue": "name 'index' is not defined",
     "output_type": "error",
     "traceback": [
      "\u001b[1;31m---------------------------------------------------------------------------\u001b[0m",
      "\u001b[1;31mNameError\u001b[0m                                 Traceback (most recent call last)",
      "Cell \u001b[1;32mIn[9], line 16\u001b[0m\n\u001b[0;32m     14\u001b[0m \u001b[38;5;28;01mfor\u001b[39;00m i \u001b[38;5;129;01min\u001b[39;00m \u001b[38;5;28mrange\u001b[39m(\u001b[38;5;241m8\u001b[39m):\n\u001b[0;32m     15\u001b[0m     \u001b[38;5;28;01mif\u001b[39;00m i\u001b[38;5;241m==\u001b[39m\u001b[38;5;241m0\u001b[39m \u001b[38;5;129;01mor\u001b[39;00m i\u001b[38;5;241m==\u001b[39m\u001b[38;5;241m1\u001b[39m \u001b[38;5;129;01mor\u001b[39;00m i\u001b[38;5;241m>\u001b[39m\u001b[38;5;241m3\u001b[39m:\n\u001b[1;32m---> 16\u001b[0m         keys_bin\u001b[38;5;241m.\u001b[39mappend(\u001b[38;5;124m'\u001b[39m\u001b[38;5;132;01m{:0>6}\u001b[39;00m\u001b[38;5;124m'\u001b[39m\u001b[38;5;241m.\u001b[39mformat(\u001b[38;5;28mformat\u001b[39m(\u001b[43mindex\u001b[49m[i],\u001b[38;5;124m\"\u001b[39m\u001b[38;5;124mb\u001b[39m\u001b[38;5;124m\"\u001b[39m)))\n\u001b[0;32m     17\u001b[0m         \u001b[38;5;28;01mfor\u001b[39;00m j \u001b[38;5;129;01min\u001b[39;00m \u001b[38;5;28mrange\u001b[39m(\u001b[38;5;241m6\u001b[39m):\n\u001b[0;32m     18\u001b[0m             vals[keys[k\u001b[38;5;241m*\u001b[39m\u001b[38;5;241m6\u001b[39m\u001b[38;5;241m+\u001b[39mj]] \u001b[38;5;241m=\u001b[39m \u001b[38;5;28mint\u001b[39m(keys_bin[k][j])\n",
      "\u001b[1;31mNameError\u001b[0m: name 'index' is not defined"
     ]
    }
   ],
   "source": [
    "key = [24,27,21,6,11,15,\n",
    "13,10,25,16,3,20,\n",
    "51,34,41,47,29,37,\n",
    "40,50,33,55,43,30,\n",
    "54,31,49,38,44,35,\n",
    "56,52,32,46,39,42]\n",
    "vals = {}\n",
    "keys = []\n",
    "for i in key:\n",
    "    keys.append(i-1)\n",
    "Master_Key = [-1 for i in range(56)]\n",
    "keys_bin = []\n",
    "k=0\n",
    "for i in range(8):\n",
    "    if i==0 or i==1 or i>3:\n",
    "        keys_bin.append('{:0>6}'.format(format(index[i],\"b\")))\n",
    "        for j in range(6):\n",
    "            vals[keys[k*6+j]] = int(keys_bin[k][j])\n",
    "        k=k+1\n",
    "marked = [0 for i in range(56)]\n",
    "for i in range(56):\n",
    "    if i in keys:\n",
    "        marked[i]=1\n",
    "        Master_Key[i] = int(vals[i])\n",
    "print(Master_Key)"
   ]
  },
  {
   "cell_type": "code",
   "execution_count": null,
   "metadata": {},
   "outputs": [],
   "source": []
  },
  {
   "cell_type": "code",
   "execution_count": 10,
   "metadata": {},
   "outputs": [],
   "source": [
    "Final_Keys = []\n",
    "for i in range(2**20):\n",
    "    tmp = list('{:0>20}'.format(format(i,\"b\")))\n",
    "    done = 0\n",
    "    mkey = [Master_Key[j] for j in range(56)]\n",
    "    for j in range(56):\n",
    "        if Master_Key[j]==-1:\n",
    "            mkey[j] = int(tmp[done])\n",
    "            done=done+1\n",
    "    Final_Keys.append(mkey)"
   ]
  },
  {
   "cell_type": "code",
   "execution_count": 11,
   "metadata": {},
   "outputs": [
    {
     "name": "stdout",
     "output_type": "stream",
     "text": [
      "1048576\n"
     ]
    }
   ],
   "source": [
    "print (len(Final_Keys))"
   ]
  },
  {
   "cell_type": "code",
   "execution_count": null,
   "metadata": {},
   "outputs": [],
   "source": []
  },
  {
   "cell_type": "code",
   "execution_count": null,
   "metadata": {},
   "outputs": [],
   "source": []
  }
 ],
 "metadata": {
  "kernelspec": {
   "display_name": "Python 3 (ipykernel)",
   "language": "python",
   "name": "python3"
  },
  "language_info": {
   "codemirror_mode": {
    "name": "ipython",
    "version": 3
   },
   "file_extension": ".py",
   "mimetype": "text/x-python",
   "name": "python",
   "nbconvert_exporter": "python",
   "pygments_lexer": "ipython3",
   "version": "3.9.0"
  }
 },
 "nbformat": 4,
 "nbformat_minor": 2
}
