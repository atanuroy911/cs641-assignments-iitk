{
 "cells": [
  {
   "cell_type": "code",
   "execution_count": null,
   "metadata": {
    "pycharm": {
     "is_executing": true
    }
   },
   "outputs": [],
   "source": [
    "def break_RSA(x_str, max_len_M, N, C, e):\n",
    "    modN = Zmod(N)\n",
    "    x_str_binary = ''.join(['{0:08b}'.format(ord(x)) for x in x_str])\n",
    "    \n",
    "    for len_M in range(0, max_len_M+1, 4):\n",
    "        P.<M> = modN[]\n",
    "        poly = ((int(x_str_binary,2)<<len_M)+M)^e-C\n",
    "        poly_deg = poly.degree()\n",
    "        m = ceil(7/poly_deg)\n",
    "        X = ceil(N**((1/poly_deg)-1/7))\n",
    "            \n",
    "        nn = poly_deg * m\n",
    "        polZ = poly.change_ring(ZZ)\n",
    "        x = polZ.parent().gen()\n",
    "        gg = []\n",
    "        for i in range(m):\n",
    "            for j in range(poly_deg):\n",
    "                gg.append((x * X)**j * N**(m - i) * polZ(x * X)**i)\n",
    "        BB = Matrix(ZZ, nn)\n",
    "        for i in range(nn):\n",
    "            for j in range(i+1):\n",
    "                BB[i, j] = gg[i][j]\n",
    "        BB = BB.LLL()\n",
    "        new_pol = 0\n",
    "        for i in range(nn):\n",
    "            new_pol += x**i * BB[0, i] / X**i\n",
    "        potential_roots = new_pol.roots()\n",
    "        roots = []\n",
    "        for root in potential_roots:\n",
    "            if root[0].is_integer():\n",
    "                result = polZ(ZZ(root[0]))\n",
    "                if gcd(N, result) >= N:\n",
    "                    roots.append(ZZ(root[0]))\n",
    "        if roots:\n",
    "            root = '{0:b}'.format(roots[0])\n",
    "            extra = 8-len(root)%8\n",
    "            root = '0'*extra+root\n",
    "            print(\"Binary Password: \",root)\n",
    "            root = ''.join([chr(int(root[i:i+8],2)) for i in range(0,len(root),8)])\n",
    "            print(\"Password: '{}'\".format(root))\n",
    "            return\n",
    "    print(\"No solution\")"
   ]
  },
  {
   "cell_type": "code",
   "execution_count": 2,
   "metadata": {},
   "outputs": [],
   "source": [
    "e = 5\n",
    "N =  96182747699505978203493279981459430727937518292984193016886561106363353916386586758651815856242697524548399409635684640624230932849019432043523839656109820905413293723212528269787011277318767034395809409730691799969185752755297017069076766221915260066697903171224961815482777385986349777177392842831115599253\n",
    "C = 20201765140890787982530130195511967548091360440538993670623792704567712038919530764394425658165724068637112509577956875243834666714708335194598214292722491948910926394322615836713937583472704702361084785003321627398529552902491607466460697544576189592562247393758514331473269321103800540848207736515155096484\n",
    "# RSA known parameters\n",
    "ZmodN = Zmod(N);"
   ]
  },
  {
   "cell_type": "code",
   "execution_count": 3,
   "metadata": {},
   "outputs": [
    {
     "name": "stdout",
     "output_type": "stream",
     "text": [
      "Binary Password:  001000000100001001000000011010000111010101100010010000010110110000100001\n",
      "Password: ' B@hubAl!'\n"
     ]
    }
   ],
   "source": [
    "break_RSA(\"You see a Gold-Bug in one corner. It is the key to a treasure found by\", 300, N, C, e)"
   ]
  },
  {
   "cell_type": "code",
   "execution_count": null,
   "metadata": {},
   "outputs": [],
   "source": []
  }
 ],
 "metadata": {
  "kernelspec": {
   "name": "python3",
   "language": "python",
   "display_name": "Python 3 (ipykernel)"
  },
  "language_info": {
   "codemirror_mode": {
    "name": "ipython",
    "version": 3
   },
   "file_extension": ".py",
   "mimetype": "text/x-python",
   "name": "python",
   "nbconvert_exporter": "python",
   "pygments_lexer": "ipython3",
   "version": "3.8.5"
  }
 },
 "nbformat": 4,
 "nbformat_minor": 4
}
