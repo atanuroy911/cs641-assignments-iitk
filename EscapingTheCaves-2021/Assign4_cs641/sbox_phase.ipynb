{
 "cells": [
  {
   "cell_type": "code",
   "execution_count": 1,
   "metadata": {},
   "outputs": [],
   "source": [
    "import numpy as np"
   ]
  },
  {
   "cell_type": "code",
   "execution_count": 2,
   "metadata": {},
   "outputs": [],
   "source": [
    "S_Box = [[[14, 4, 13, 1, 2, 15, 11, 8, 3 , 10, 6, 12, 5, 9, 0, 7],\n",
    "  [0, 15, 7, 4, 14, 2, 13, 1, 10, 6, 12, 11, 9, 5, 3, 8],\n",
    "  [4, 1 , 14, 8, 13, 6, 2, 11, 15, 12, 9, 7,3, 10, 5, 0],\n",
    "  [15, 12, 8,2,4, 9, 1,7 , 5, 11, 3, 14, 10, 0, 6, 13 ]],\n",
    "  \n",
    "  [[15, 1, 8, 14, 6, 11, 3, 4, 9, 7, 2, 13, 12, 0,5, 10],\n",
    "  [3, 13, 4, 7, 15, 2, 8, 14, 12, 0, 1, 10, 6, 9, 11, 5],\n",
    "  [0, 14, 7, 11, 10, 4, 13, 1, 5, 8,12, 6, 9, 3, 2, 15],\n",
    "  [13, 8, 10, 1, 3, 15, 4, 2,11,6, 7, 12, 0,5, 14, 9]],\n",
    "  \n",
    "  [[10, 0, 9,14,6,3,15,5, 1, 13, 12, 7, 11, 4,2,8],\n",
    "  [13, 7, 0, 9, 3, 4, 6, 10, 2, 8, 5, 14, 12, 11, 15, 1],\n",
    "  [13, 6, 4, 9, 8, 15, 3, 0, 11, 1, 2, 12,5, 10, 14, 7],\n",
    "  [1, 10, 13, 0, 6, 9, 8, 7, 4, 15, 14, 3, 11, 5, 2, 12]],\n",
    "  \n",
    "  [[7, 13, 14, 3, 0, 6, 9, 10, 1, 2, 8, 5, 11, 12, 4, 15],\n",
    "  [13, 8, 11, 5, 6, 15, 0, 3, 4, 7, 2, 12, 1, 10, 14, 9],\n",
    "  [10, 6, 9, 0, 12, 11, 7, 13, 15, 1 , 3, 14, 5, 2, 8, 4], \n",
    "  [3, 15, 0, 6, 10, 1, 13, 8, 9, 4, 5, 11, 12, 7, 2, 14]],\n",
    "  \n",
    "  \n",
    "  [[2, 12, 4, 1, 7, 10, 11, 6, 8, 5, 3, 15, 13, 0, 14, 9], \n",
    "  [14, 11,2, 12, 4, 7, 13, 1, 5, 0, 15, 10, 3, 9, 8, 6], \n",
    "  [4, 2, 1, 11, 10, 13, 7, 8, 15, 9, 12, 5, 6, 3, 0, 14], \n",
    "  [11, 8, 12, 7, 1, 14, 2, 13, 6, 15, 0, 9, 10, 4, 5, 3]], \n",
    "  \n",
    "  \n",
    "  \n",
    "  [[12, 1, 10, 15, 9, 2, 6,8, 0, 13, 3, 4, 14, 7, 5, 11], \n",
    "  [10, 15, 4, 2, 7, 12, 9, 5, 6, 1, 13, 14, 0, 11, 3, 8], \n",
    "  [9, 14, 15, 5, 2,8, 12, 3, 7, 0, 4, 10, 1, 13, 11, 6], \n",
    "  [4, 3, 2, 12, 9, 5, 15, 10, 11, 14, 1, 7, 6, 0, 8, 13]], \n",
    "  \n",
    "  [[4, 11, 2, 14, 15, 0, 8, 13, 3, 12, 9, 7, 5, 10, 6, 1],\n",
    "  [13, 0, 11, 7, 4, 9, 1, 10, 14, 3, 5, 12, 2, 15, 8, 6],\n",
    "  [1, 4, 11, 13, 12, 3, 7, 14, 10, 15, 6, 8, 0, 5, 9, 2], \n",
    "  [6, 11, 13, 8, 1, 4, 10, 7, 9, 5, 0, 15, 14, 2, 3, 12]],\n",
    "  \n",
    "  [[13, 2, 8, 4, 6, 15, 11, 1, 10, 9, 3, 14, 5, 0, 12,7], \n",
    "  [1, 15, 13, 8, 10, 3, 7, 4, 12, 5, 6, 11, 0, 14, 9, 2], \n",
    "  [7, 11, 4, 1, 9, 12, 14, 2, 0, 6, 10, 13, 15, 3, 5, 8], \n",
    "  [2, 1, 14, 7, 4, 10, 8, 13, 15, 12, 9, 0, 3, 5, 6, 11]]]"
   ]
  },
  {
   "cell_type": "code",
   "execution_count": 3,
   "metadata": {},
   "outputs": [],
   "source": [
    "X_S_In = open(\"XS_inp.txt\").read().split(\"\\n\")\n",
    "X_S_Out = open(\"XS_out.txt\").read().split(\"\\n\")\n",
    "LOut = open(\"XExp_out.txt\").read().split(\"\\n\")\n",
    "Keys = np.zeros((8,64))"
   ]
  },
  {
   "cell_type": "code",
   "execution_count": 4,
   "metadata": {},
   "outputs": [],
   "source": [
    "def SBoxOut(a, b, s):\n",
    "    a = '{:0>6}'.format(format(a,\"b\"))\n",
    "    b = '{:0>6}'.format(format(b,\"b\"))\n",
    "    r1 = int(a[0])*2 + int(a[5])\n",
    "    r2 = int(b[0])*2 + int(b[5])\n",
    "    c1 = int(a[4]) + 2 *int(a[3]) + int(a[2]) * 4 + int(a[1])*8\n",
    "    c2 = int(b[4]) + 2 *int(b[3]) + int(b[2]) * 4 + int(b[1])*8    \n",
    "    return (S_Box[s][r1][c1])^(S_Box[s][r2][c2])"
   ]
  },
  {
   "cell_type": "code",
   "execution_count": 5,
   "metadata": {},
   "outputs": [],
   "source": [
    "for i in range(len(X_S_In)):\n",
    "    if X_S_In[i]==\"\":\n",
    "        continue\n",
    "    inpxs = X_S_In[i]\n",
    "    outxs = X_S_Out[i]\n",
    "    inpos = LOut[i]       #LHS of the final output expanded \n",
    "    for j in range(8):\n",
    "        inx = int(inpxs[j*6:j*6+6], 2)\n",
    "        outx = int(outxs[j*4:j*4+4], 2)\n",
    "        inp_orig = int(inpos[j*6:j*6+6], 2)\n",
    "        for k in range(64):\n",
    "            if outx == SBoxOut(k, k^inx, j):\n",
    "                key_cand = k^inp_orig\n",
    "                Keys[j][key_cand] = Keys[j][key_cand] + 1"
   ]
  },
  {
   "cell_type": "code",
   "execution_count": 7,
   "metadata": {
    "scrolled": true
   },
   "outputs": [
    {
     "name": "stdout",
     "output_type": "stream",
     "text": [
      "[[ 6.  8.  4.  8.  8.  6.  9.  5.  4.  6.  8.  9.  6.  5. 11.  7.  9. 13.\n",
      "   5.  6.  6.  6.  4.  7.  7.  6. 11.  5.  4.  7.  8.  6. 12.  3.  8.  6.\n",
      "   6.  4. 10.  7.  5.  6. 15.  8.  6.  4.  4.  9. 11.  5.  8. 10.  8.  8.\n",
      "  13.  7. 11. 12.  5. 14.  3.  8. 10. 10.]\n",
      " [11.  5. 10.  5.  9. 10.  8.  6. 10.  9. 10.  8.  6.  6.  8.  8.  9.  7.\n",
      "   4. 11.  5.  8. 10.  8.  7.  3.  9.  6. 12. 10.  6. 11.  9.  8.  5.  7.\n",
      "   5.  8.  6.  8. 11.  9.  8.  7.  5. 10.  9.  2.  6.  8. 12.  6.  6. 10.\n",
      "  14. 10. 10.  4.  7.  4.  8.  7. 12. 12.]\n",
      " [ 7. 14.  9.  8. 14.  6. 10.  9.  9.  8.  8.  5. 10.  7. 15.  7.  9. 10.\n",
      "   7.  6.  4.  7.  5.  8. 14. 10. 15.  6.  7.  8.  8.  5.  9. 12. 10. 10.\n",
      "   7. 10.  5.  6.  6. 10. 12.  6.  5.  7.  9.  9.  7.  8.  5. 10.  7.  3.\n",
      "   8.  8.  5. 17. 10.  6.  9. 15.  6. 12.]\n",
      " [ 4.  7.  5.  7.  5.  3.  9.  6.  8. 10.  9.  8.  6.  6.  8. 11.  9. 10.\n",
      "  14.  7. 11. 11.  9.  9.  7. 11.  9.  9.  5. 10.  9.  7. 17. 10.  7.  6.\n",
      "   7.  9.  7.  5.  8. 11.  3.  5.  8. 11. 13.  9.  9.  5.  6.  9.  8.  8.\n",
      "   7.  4.  8.  5.  6. 10.  8.  9.  9. 10.]\n",
      " [11. 12.  6.  5.  9. 15.  8. 11.  4.  7.  3.  5.  8.  8.  9.  6. 10.  8.\n",
      "   9.  9. 15.  7.  6.  8. 13. 12. 10.  9.  5. 14.  4.  9.  8.  5.  8.  2.\n",
      "  12. 13. 10.  8.  5.  6.  6. 11. 12.  3.  6.  5.  8.  8.  5.  6.  9. 10.\n",
      "   9.  8.  9. 11. 12.  8.  7.  6.  9.  8.]\n",
      " [ 3.  6.  9. 11.  6. 11. 13. 13.  9.  7.  8.  6.  5. 15. 16.  8.  4.  9.\n",
      "   7.  6. 10.  9.  9.  5.  8. 13.  9.  2.  8. 10.  8.  6.  6.  7. 11.  8.\n",
      "   7. 11. 14.  8. 12.  9.  7.  5.  6.  9.  4. 10.  8. 11.  9. 11. 11. 10.\n",
      "   9. 14.  4.  3. 18.  8.  8.  4.  7.  6.]\n",
      " [ 7.  3.  9.  6.  6.  8.  9. 12.  7.  9.  6. 10.  7. 13. 11. 10. 10.  8.\n",
      "   7. 14.  3. 10.  4. 10.  8.  8.  8.  9.  8. 10.  6.  9.  8.  6. 13.  8.\n",
      "   9. 10.  5. 14.  8.  7. 14. 13. 13.  9.  5.  9. 13. 11. 11. 11.  7. 10.\n",
      "  10.  9.  9.  5. 12.  7.  7.  8. 11.  5.]\n",
      " [ 6.  7.  1.  6.  6. 15.  8. 11.  8. 12.  6.  5.  9.  9.  9.  7.  8.  5.\n",
      "   3. 11.  8.  7.  8. 10.  2.  6. 10.  9.  7.  6.  8.  9. 10. 11.  7.  8.\n",
      "   3.  7. 14.  7.  8. 11.  7.  7. 10.  8. 11.  8.  6. 11.  4.  9. 10. 11.\n",
      "  12.  8.  7.  6.  6.  5.  8. 13.  6.  9.]]\n"
     ]
    }
   ],
   "source": [
    "print(Keys)"
   ]
  },
  {
   "cell_type": "code",
   "execution_count": 8,
   "metadata": {
    "scrolled": true
   },
   "outputs": [
    {
     "name": "stdout",
     "output_type": "stream",
     "text": [
      "[15, 14, 17, 17, 15, 18, 14, 15]\n",
      "[7, 8, 8, 8, 8, 8, 9, 8]\n",
      "[42, 54, 57, 32, 5, 58, 19, 5]\n"
     ]
    }
   ],
   "source": [
    "import operator\n",
    "max_key = []\n",
    "average = []\n",
    "index = []\n",
    "for i in Keys:\n",
    "    inde, value = max(enumerate(i), key=operator.itemgetter(1))\n",
    "    max_key.append(int(value))\n",
    "    index.append(inde)\n",
    "    average.append(int(round(np.mean(i))))\n",
    "print(max_key)\n",
    "print(average)\n",
    "print(index)"
   ]
  },
  {
   "cell_type": "code",
   "execution_count": 10,
   "metadata": {},
   "outputs": [
    {
     "name": "stdout",
     "output_type": "stream",
     "text": [
      "[-1, -1, 1, -1, -1, 0, -1, -1, -1, 1, 1, -1, 1, -1, 0, 1, -1, -1, -1, 0, 1, -1, -1, 1, 0, -1, 0, -1, 0, 0, 1, 0, 1, 0, 1, -1, 1, 0, 0, 1, 0, 1, 1, 1, -1, 1, 1, -1, 0, 1, 0, 0, -1, 0, 0, 0]\n"
     ]
    }
   ],
   "source": [
    "key = [24,27,21,6,11,15,\n",
    "13,10,25,16,3,20,\n",
    "51,34,41,47,29,37,\n",
    "40,50,33,55,43,30,\n",
    "54,31,49,38,44,35,\n",
    "56,52,32,46,39,42]\n",
    "vals = {}\n",
    "keys = []\n",
    "for i in key:\n",
    "    keys.append(i-1)\n",
    "Master_Key = [-1 for i in range(56)]\n",
    "keys_bin = []\n",
    "k=0\n",
    "for i in range(8):\n",
    "    if i==0 or i==1 or i>3:\n",
    "        keys_bin.append('{:0>6}'.format(format(index[i],\"b\")))\n",
    "        for j in range(6):\n",
    "            vals[keys[k*6+j]] = int(keys_bin[k][j])\n",
    "        k=k+1\n",
    "marked = [0 for i in range(56)]\n",
    "for i in range(56):\n",
    "    if i in keys:\n",
    "        marked[i]=1\n",
    "        Master_Key[i] = int(vals[i])\n",
    "print(Master_Key)"
   ]
  },
  {
   "cell_type": "code",
   "execution_count": 1,
   "metadata": {},
   "outputs": [
    {
     "data": {
      "text/plain": [
       "56"
      ]
     },
     "execution_count": 1,
     "metadata": {},
     "output_type": "execute_result"
    }
   ],
   "source": []
  },
  {
   "cell_type": "code",
   "execution_count": 11,
   "metadata": {},
   "outputs": [],
   "source": [
    "Final_Keys = []\n",
    "for i in range(2**20):\n",
    "    tmp = list('{:0>20}'.format(format(i,\"b\")))\n",
    "    done = 0\n",
    "    mkey = [Master_Key[j] for j in range(56)]\n",
    "    for j in range(56):\n",
    "        if Master_Key[j]==-1:\n",
    "            mkey[j] = int(tmp[done])\n",
    "            done=done+1\n",
    "    Final_Keys.append(mkey)"
   ]
  },
  {
   "cell_type": "code",
   "execution_count": 12,
   "metadata": {},
   "outputs": [
    {
     "name": "stdout",
     "output_type": "stream",
     "text": [
      "1048576\n"
     ]
    }
   ],
   "source": [
    "print (len(Final_Keys))"
   ]
  },
  {
   "cell_type": "code",
   "execution_count": null,
   "metadata": {},
   "outputs": [],
   "source": []
  },
  {
   "cell_type": "code",
   "execution_count": null,
   "metadata": {},
   "outputs": [],
   "source": []
  }
 ],
 "metadata": {
  "kernelspec": {
   "display_name": "Python 3",
   "language": "python",
   "name": "python3"
  },
  "language_info": {
   "codemirror_mode": {
    "name": "ipython",
    "version": 3
   },
   "file_extension": ".py",
   "mimetype": "text/x-python",
   "name": "python",
   "nbconvert_exporter": "python",
   "pygments_lexer": "ipython3",
   "version": "3.7.6"
  }
 },
 "nbformat": 4,
 "nbformat_minor": 2
}
